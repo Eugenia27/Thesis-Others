{
 "metadata": {
  "name": "",
  "signature": "sha256:04468b09bf0ad6f4139451f2d3a45a287f80e51d81ac99dc30816e8020e2c519"
 },
 "nbformat": 3,
 "nbformat_minor": 0,
 "worksheets": [
  {
   "cells": [
    {
     "cell_type": "code",
     "collapsed": false,
     "input": [
      "import numpy as np\n",
      "import matplotlib as mpl\n",
      "import matplotlib.pyplot as plt "
     ],
     "language": "python",
     "metadata": {},
     "outputs": [],
     "prompt_number": 1
    },
    {
     "cell_type": "code",
     "collapsed": false,
     "input": [
      "n_tot_regiones = 30\n",
      "n_regiones     = 11 #numero de regiones en estudio, aquellas con AGN bueno.\n",
      "agn_bien       = np.array([0,0,0,1,1,1,1,1,0,1,0,0,1,0,0,0,1,0,0,0,0,0,1,0,1,0,0,0,0,1])"
     ],
     "language": "python",
     "metadata": {},
     "outputs": [],
     "prompt_number": 2
    },
    {
     "cell_type": "code",
     "collapsed": false,
     "input": [
      "#defino los vectores de distancia radial y brillo superficial de cada regi\u00f3n, para cada redshift.\n",
      "limite_oficial = 81\n",
      "\n",
      "r_032_reg   = np.zeros((n_tot_regiones,limite_oficial))\n",
      "r_041_reg   = np.zeros((n_tot_regiones,limite_oficial))\n",
      "r_091_reg   = np.zeros((n_tot_regiones,limite_oficial))\n",
      "mu_032_reg  = np.zeros((n_tot_regiones,limite_oficial))\n",
      "mu_041_reg  = np.zeros((n_tot_regiones,limite_oficial))\n",
      "mu_091_reg  = np.zeros((n_tot_regiones,limite_oficial))\n",
      " \n",
      "for j in range(n_tot_regiones):\n",
      "    if agn_bien[j] == 0:\n",
      "        continue\n",
      "    with open('D'+str(j)+'/'+'032' +'/masas_acumuladas_circulos.txt') as f:\n",
      "        lineas032 = len(f.readlines())\n",
      "    limite032 = lineas032 - limite_oficial \n",
      "    r_032_reg[j]  = np.genfromtxt('D'+str(j)+'/'+'032' +'/masas_acumuladas_circulos.txt', usecols=[0] , unpack=True,skip_footer= limite032)\n",
      "    mu_032_reg[j] = np.genfromtxt('D'+str(j)+'/'+'032' +'/masas_acumuladas_circulos.txt', usecols=[1] , unpack=True,skip_footer= limite032)         \n",
      "    \n",
      "for j in range(n_tot_regiones):\n",
      "    if agn_bien[j] == 0:\n",
      "        continue\n",
      "    with open('D'+str(j)+'/'+'041' +'/masas_acumuladas_circulos.txt') as f:\n",
      "        lineas041 = len(f.readlines())\n",
      "    limite041 = lineas041 - limite_oficial \n",
      "    r_041_reg[j]  = np.genfromtxt('D'+str(j)+'/'+'041' +'/masas_acumuladas_circulos.txt', usecols=[0] , unpack=True,skip_footer= limite041)\n",
      "    mu_041_reg[j] = np.genfromtxt('D'+str(j)+'/'+'041' +'/masas_acumuladas_circulos.txt', usecols=[1] , unpack=True,skip_footer= limite041)    \n",
      "\n",
      "for j in range(n_tot_regiones):\n",
      "    if agn_bien[j] == 0:\n",
      "        continue\n",
      "    with open('D'+str(j)+'/'+'091' +'/masas_acumuladas_circulos.txt') as f:\n",
      "        lineas091 = len(f.readlines())\n",
      "    limite091 = lineas091 - limite_oficial \n",
      "    r_091_reg[j]  = np.genfromtxt('D'+str(j)+'/'+'091' +'/masas_acumuladas_circulos.txt', usecols=[0] , unpack=True,skip_footer= limite091)\n",
      "    mu_091_reg[j] = np.genfromtxt('D'+str(j)+'/'+'091' +'/masas_acumuladas_circulos.txt', usecols=[1] , unpack=True,skip_footer= limite091)     "
     ],
     "language": "python",
     "metadata": {},
     "outputs": [],
     "prompt_number": 3
    },
    {
     "cell_type": "code",
     "collapsed": false,
     "input": [
      "dimension   = 81\n",
      "mean_mu_032 = np.zeros(dimension)\n",
      "mean_mu_041 = np.zeros(dimension)\n",
      "mean_mu_091 = np.zeros(dimension)\n",
      "for ii in range(dimension):\n",
      "    for jj in range(n_tot_regiones):\n",
      "        if agn_bien[jj] == 0:\n",
      "            continue\n",
      "        mean_mu_032[ii] = mean_mu_032[ii] + mu_032_reg[jj][ii] \n",
      "        mean_mu_041[ii] = mean_mu_041[ii] + mu_041_reg[jj][ii] \n",
      "        mean_mu_091[ii] = mean_mu_091[ii] + mu_091_reg[jj][ii]        \n",
      "    mean_mu_032[ii] = mean_mu_032[ii]/n_regiones  \n",
      "    mean_mu_041[ii] = mean_mu_041[ii]/n_regiones \n",
      "    mean_mu_091[ii] = mean_mu_091[ii]/n_regiones \n"
     ],
     "language": "python",
     "metadata": {},
     "outputs": [],
     "prompt_number": 4
    },
    {
     "cell_type": "code",
     "collapsed": false,
     "input": [
      "sigma_mu_032 = np.zeros(dimension)\n",
      "sigma_mu_041 = np.zeros(dimension)\n",
      "sigma_mu_091 = np.zeros(dimension)\n",
      "for ii in range(dimension):\n",
      "    for jj in range(n_tot_regiones):\n",
      "        if agn_bien[jj] == 0:\n",
      "            continue\n",
      "        sigma_mu_032[ii] = sigma_mu_032[ii] + (mu_032_reg[jj][ii] - mean_mu_032[ii])**2 \n",
      "        sigma_mu_041[ii] = sigma_mu_041[ii] + (mu_041_reg[jj][ii] - mean_mu_041[ii])**2\n",
      "        sigma_mu_091[ii] = sigma_mu_091[ii] + (mu_091_reg[jj][ii] - mean_mu_091[ii])**2       \n",
      "    sigma_mu_032[ii] = np.sqrt(sigma_mu_032[ii]/(n_regiones-1))  \n",
      "    sigma_mu_041[ii] = np.sqrt(sigma_mu_041[ii]/(n_regiones-1))\n",
      "    sigma_mu_091[ii] = np.sqrt(sigma_mu_091[ii]/(n_regiones-1)) "
     ],
     "language": "python",
     "metadata": {},
     "outputs": [],
     "prompt_number": 5
    },
    {
     "cell_type": "code",
     "collapsed": false,
     "input": [
      "max_mu032 = mean_mu_032 + sigma_mu_032\n",
      "max_mu041 = mean_mu_041 + sigma_mu_041\n",
      "max_mu091 = mean_mu_091 + sigma_mu_091\n",
      "\n",
      "min_mu032 = mean_mu_032 - sigma_mu_032\n",
      "min_mu041 = mean_mu_041 - sigma_mu_041\n",
      "min_mu091 = mean_mu_091 - sigma_mu_091"
     ],
     "language": "python",
     "metadata": {},
     "outputs": [],
     "prompt_number": 6
    },
    {
     "cell_type": "code",
     "collapsed": false,
     "input": [
      "from matplotlib.offsetbox import AnchoredText\n",
      "\n",
      "plt.rc('text', usetex=True)\n",
      "font = {'family': 'serif', 'size': 35, 'serif': ['computer modern roman']}\n",
      "plt.rc('font', **font)\n",
      "plt.rc('legend', **{'fontsize': 27}) \n",
      "plt.rcParams['text.latex.preamble'] = [r'\\usepackage{amsmath}']\n",
      "\n",
      "plt.rcParams['axes.linewidth'] = 1.0\n",
      "plt.rcParams['xtick.major.size'] = 8\n",
      "plt.rcParams['xtick.minor.size'] = 4\n",
      "plt.rcParams['ytick.major.size'] = 6\n",
      "plt.rcParams['ytick.minor.size'] = 3\n",
      "mpl.rc('lines', linewidth=3)"
     ],
     "language": "python",
     "metadata": {},
     "outputs": [],
     "prompt_number": 7
    },
    {
     "cell_type": "code",
     "collapsed": false,
     "input": [
      "fig = plt.figure(figsize=(7,7))\n",
      "\n",
      "ax1 = fig.add_subplot(111)\n",
      "\n",
      "ax1.plot(r_032_reg[3]/10,mean_mu_032, color= '#FFA61F', label = 'z=2')\n",
      "ax1.plot(r_041_reg[3]/10,mean_mu_041, color= '#862DA6', label = 'z=1')\n",
      "ax1.plot(r_091_reg[3]/10,mean_mu_091, color= '#00BC77', label = 'z=0')\n",
      "\n",
      "ax1.fill_between(r_032_reg[3]/10,min_mu032 , max_mu032, color= '#FFA61F' , alpha =0.3)\n",
      "ax1.fill_between(r_032_reg[3]/10,min_mu041 , max_mu041, color= '#862DA6' , alpha =0.3)\n",
      "ax1.fill_between(r_032_reg[3]/10,min_mu091 , max_mu091, color= '#00BC77' , alpha =0.3)\n",
      "\n",
      "ax1.legend(loc='upper left', frameon=False, scatterpoints=1,borderpad=0.6, labelspacing=0.7)\n",
      "ax1.set_xlabel('R [Kpc]  x10')\n",
      "ax1.set_ylabel('M [M$_{\\odot}$]')\n",
      "ax1.minorticks_on()\n",
      "\n",
      "xticks = ax1.xaxis.get_major_ticks()\n",
      "xticks[0].label1.set_visible(False)\n",
      "xticks[-1].label1.set_visible(False)\n",
      "\n",
      "yticks = ax1.yaxis.get_major_ticks()\n",
      "yticks[-2].label1.set_visible(False)\n",
      "\n",
      "plt.xlim(0,15.7)\n",
      "\n",
      "plt.savefig('masas.pdf', format='pdf', dpi=1500,bbox_inches='tight')\n",
      "plt.show()"
     ],
     "language": "python",
     "metadata": {},
     "outputs": [
      {
       "output_type": "stream",
       "stream": "stderr",
       "text": [
        "/usr/lib64/python2.7/site-packages/matplotlib/collections.py:590: FutureWarning: elementwise comparison failed; returning scalar instead, but in the future will perform elementwise comparison\n",
        "  if self._edgecolors == str('face'):\n"
       ]
      }
     ],
     "prompt_number": 8
    },
    {
     "cell_type": "code",
     "collapsed": false,
     "input": [],
     "language": "python",
     "metadata": {},
     "outputs": []
    }
   ],
   "metadata": {}
  }
 ]
}