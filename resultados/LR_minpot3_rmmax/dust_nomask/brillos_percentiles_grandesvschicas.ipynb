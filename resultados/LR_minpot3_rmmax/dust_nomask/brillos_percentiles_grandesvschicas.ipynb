{
 "metadata": {
  "name": "",
  "signature": "sha256:ae96a347e78bd1a5c846bc2f0b30cd882da7cf030ff0e157f9fcc4f705aa5eb1"
 },
 "nbformat": 3,
 "nbformat_minor": 0,
 "worksheets": [
  {
   "cells": [
    {
     "cell_type": "code",
     "collapsed": false,
     "input": [
      "import numpy as np\n",
      "import matplotlib as mpl\n",
      "import matplotlib.pyplot as plt \n",
      "from scipy.optimize import curve_fit"
     ],
     "language": "python",
     "metadata": {},
     "outputs": [],
     "prompt_number": 1
    },
    {
     "cell_type": "code",
     "collapsed": false,
     "input": [
      "n_tot_regiones = 1\n",
      "n_regiones     = 11 #numero de regiones en estudio, aquellas con AGN bueno.\n",
      "agn_bien       = np.array([0,0,0,1,1,1,1,1,0,1,0,0,1,0,0,0,1,0,0,0,0,0,1,0,1,0,0,0,0,1])\n",
      "grandes        = np.array([0,0,0,0,0,0,1,1,0,1,0,0,1,0,0,0,1,0,0,0,0,0,1,0,1,0,0,0,0,1])\n",
      "chicas         = np.array([0,0,0,1,1,1,0,0,0,0,0,0,0,0,0,0,0,0,0,0,0,0,0,0,0,0,0,0,0,0])\n",
      "band = '127'"
     ],
     "language": "python",
     "metadata": {},
     "outputs": [],
     "prompt_number": 2
    },
    {
     "cell_type": "code",
     "collapsed": false,
     "input": [
      "#defino los vectores de distancia radial y brillo superficial de cada regi\u00f3n, para cada redshift.\n",
      "limite_oficial = 70\n",
      "\n",
      "r_032_reg   = np.zeros(limite_oficial)\n",
      "r_041_reg   = np.zeros(limite_oficial)\n",
      "r_091_reg   = np.zeros(limite_oficial)\n",
      "mu_032_reg  = np.zeros(limite_oficial)\n",
      "mu_041_reg  = np.zeros(limite_oficial)\n",
      "mu_091_reg  = np.zeros(limite_oficial)\n",
      " \n",
      "#for j in range(n_tot_regiones):\n",
      "#    if agn_bien[j] == 0:\n",
      "#        continue\n",
      "j=24\n",
      "with open('D'+str(j)+'/'+'032' +'/mean_munlog'+band+'.txt') as f:\n",
      "    lineas032 = len(f.readlines())\n",
      "limite032 = lineas032 - limite_oficial \n",
      "r_032_reg  = np.genfromtxt('D'+str(j)+'/'+'032' +'/mean_munlog'+band+'.txt', usecols=[0] , unpack=True,skip_footer= limite032)\n",
      "mu_032_reg = np.genfromtxt('D'+str(j)+'/'+'032' +'/mean_munlog'+band+'.txt', usecols=[1] , unpack=True,skip_footer= limite032)         \n",
      "    \n",
      "#for j in range(n_tot_regiones):\n",
      "#    if agn_bien[j] == 0:\n",
      "#        continue\n",
      "with open('D'+str(j)+'/'+'041' +'/mean_munlog'+band+'.txt') as f:\n",
      "    lineas041 = len(f.readlines())\n",
      "limite041 = lineas041 - limite_oficial \n",
      "r_041_reg  = np.genfromtxt('D'+str(j)+'/'+'041' +'/mean_munlog'+band+'.txt', usecols=[0] , unpack=True,skip_footer= limite041)\n",
      "mu_041_reg = np.genfromtxt('D'+str(j)+'/'+'041' +'/mean_munlog'+band+'.txt', usecols=[1] , unpack=True,skip_footer= limite041)    \n",
      "\n",
      "#for j in range(n_tot_regiones):\n",
      "#    if agn_bien[j] == 0:\n",
      "#        continue\n",
      "with open('D'+str(j)+'/'+'091' +'/mean_munlog'+band+'.txt') as f:\n",
      "    lineas091 = len(f.readlines())\n",
      "limite091 = lineas091 - limite_oficial \n",
      "r_091_reg  = np.genfromtxt('D'+str(j)+'/'+'091' +'/mean_munlog'+band+'.txt', usecols=[0] , unpack=True,skip_footer= limite091)\n",
      "mu_091_reg = np.genfromtxt('D'+str(j)+'/'+'091' +'/mean_munlog'+band+'.txt', usecols=[1] , unpack=True,skip_footer= limite091)     "
     ],
     "language": "python",
     "metadata": {},
     "outputs": [],
     "prompt_number": 3
    },
    {
     "cell_type": "code",
     "collapsed": false,
     "input": [
      "from matplotlib.offsetbox import AnchoredText\n",
      "\n",
      "plt.rc('text', usetex=True)\n",
      "font = {'family': 'serif', 'size': 35, 'serif': ['computer modern roman']}\n",
      "plt.rc('font', **font)\n",
      "plt.rc('legend', **{'fontsize': 27}) \n",
      "plt.rcParams['text.latex.preamble'] = [r'\\usepackage{amsmath}']\n",
      "\n",
      "plt.rcParams['axes.linewidth'] = 1.0\n",
      "plt.rcParams['xtick.major.size'] = 8\n",
      "plt.rcParams['xtick.minor.size'] = 4\n",
      "plt.rcParams['ytick.major.size'] = 6\n",
      "plt.rcParams['ytick.minor.size'] = 3\n",
      "mpl.rc('lines', linewidth=3)"
     ],
     "language": "python",
     "metadata": {},
     "outputs": [],
     "prompt_number": 4
    },
    {
     "cell_type": "code",
     "collapsed": false,
     "input": [
      "\n",
      "fig = plt.figure(figsize=(7,7))\n",
      "\n",
      "ax1 = fig.add_subplot(111)\n",
      "\n",
      "z0=ax1.plot(r_032_reg,mu_032_reg, color= '#FFA61F', label = 'z=2')\n",
      "z1=ax1.plot(r_041_reg,mu_041_reg, color= '#862DA6', label = 'z=1')\n",
      "z2=ax1.plot(r_091_reg,mu_091_reg, color= '#00BC77', label = 'z=0')\n",
      "\n",
      "ax1.set_xlabel('R [Kpc]  x10')\n",
      "ax1.set_ylabel('$\\mu$ [$mag/arcsec^{2}$]')\n",
      "ax1.minorticks_on()\n",
      "\n",
      "ax1.legend(loc='lower left', frameon=False, scatterpoints=1,borderpad=0.6, labelspacing=0.2)\n",
      "\n",
      "xticks = ax1.xaxis.get_major_ticks()\n",
      "xticks[0].label1.set_visible(False)\n",
      "xticks[-1].label1.set_visible(False)\n",
      "\n",
      "yticks = ax1.yaxis.get_major_ticks()\n",
      "yticks[-1].label1.set_visible(False)\n",
      "\n",
      "plt.ylim(41,17)\n",
      "plt.xlim(0,180)\n",
      "plt.savefig('perfiles'+band+'.pdf', format='pdf', dpi=1500,bbox_inches='tight')\n",
      "plt.show()"
     ],
     "language": "python",
     "metadata": {},
     "outputs": [],
     "prompt_number": 5
    },
    {
     "cell_type": "code",
     "collapsed": false,
     "input": [
      "def func(r, mu_e, r_e, n):\n",
      "    return mu_e + (2.5*(0.868*n-0.142))*((r/r_e)**(1./n)-1)\n",
      "\n",
      "xdata = r_032_reg[3]\n",
      "colors= ['#FFA61F', '#862DA6', '#00BC77']#, '#624A26', '#431B5B', '#104A33']\n",
      "ydata = np.array([mu_032_reg,\n",
      "                  mu_041_reg,\n",
      "                  mu_091_reg])          \n",
      "print ydata[0]"
     ],
     "language": "python",
     "metadata": {},
     "outputs": [
      {
       "output_type": "stream",
       "stream": "stdout",
       "text": [
        "[ 18.42  19.29  19.81  20.56  20.89  21.09  21.27  21.47  21.71  22.04\n",
        "  22.55  22.8   22.69  23.15  23.17  23.58  23.9   23.79  24.3   24.7\n",
        "  25.16  26.42  27.18  28.1   29.18  29.13  30.82  31.34  31.34  31.9   32.2\n",
        "  33.78  33.7   33.89  33.94  35.58  36.98  37.05  36.83  37.12  38.57\n",
        "  38.47  37.96  38.06  38.75  39.16  39.27  37.91  37.76  37.71  37.35\n",
        "  37.14  37.95  38.81  39.43  40.03  40.89  42.16  42.18  41.85  41.99\n",
        "  42.38  41.7   39.96  39.2   39.31  39.7   39.82  39.37  40.6 ]\n"
       ]
      }
     ],
     "prompt_number": 6
    },
    {
     "cell_type": "code",
     "collapsed": false,
     "input": [
      "print xdata"
     ],
     "language": "python",
     "metadata": {},
     "outputs": [
      {
       "output_type": "stream",
       "stream": "stdout",
       "text": [
        "14.0\n"
       ]
      }
     ],
     "prompt_number": 7
    },
    {
     "cell_type": "code",
     "collapsed": false,
     "input": [],
     "language": "python",
     "metadata": {},
     "outputs": [],
     "prompt_number": 7
    },
    {
     "cell_type": "code",
     "collapsed": false,
     "input": [
      "def func(r, mu_e, r_e, n):\n",
      "    return mu_e + (2.5*(0.868*n-0.142))*((r/r_e)**(1./n)-1)\n",
      "\n",
      "xdata = r_032_reg\n",
      "colors= ['#FFA61F', '#862DA6', '#00BC77']#, '#624A26', '#431B5B', '#104A33']\n",
      "ydata = np.array([mu_032_reg,\n",
      "                  mu_041_reg,\n",
      "                  mu_091_reg])\n",
      "figx = plt.figure(figsize=(7,7))            \n",
      "ax1 = figx.add_subplot(111)            \n",
      "for i in range(len(ydata)):\n",
      "    ax1.plot(xdata, ydata[i], color= colors[i], label='z='+str(2-i), lw=1)\n",
      "    popt, pcov = curve_fit(func, xdata, ydata[i])\n",
      "    ax1.plot(xdata, func(xdata, *popt), color= colors[i] , label='z='+str(2-i)+'-fit', lw=1.3, linestyle='--')\n",
      "    perr = np.sqrt(np.diag(pcov))\n",
      "    print 'popt: ',popt\n",
      "    print 'perr: ',perr\n",
      "  \n",
      "ax1.set_xlabel('R [Kpc]')\n",
      "ax1.set_ylabel('$\\mu$ [$mag/arcsec^{2}$]')\n",
      "ax1.minorticks_on()\n",
      " \n",
      "plt.ylim(41,17)\n",
      "plt.xlim(0,180)   \n",
      "    \n",
      "xticks = ax1.xaxis.get_major_ticks()\n",
      "xticks[0].label1.set_visible(False)\n",
      "xticks[-1].label1.set_visible(False)\n",
      "\n",
      "yticks = ax1.yaxis.get_major_ticks()\n",
      "yticks[-1].label1.set_visible(False)\n",
      "#yticks[0].label1.set_visible(False)\n",
      "\n",
      "\n",
      "plt.legend(loc='lower left', frameon=False, scatterpoints=1,borderpad=0.6, labelspacing=0.1)\n",
      "plt.title('D24')\n",
      "plt.savefig('ajuste_D24'+band+'.pdf', format='pdf', dpi=1500,bbox_inches='tight')\n",
      "plt.show()"
     ],
     "language": "python",
     "metadata": {},
     "outputs": [
      {
       "output_type": "stream",
       "stream": "stdout",
       "text": [
        "popt:  [ 18.13260587   8.64148667   1.54736309]\n",
        "perr:  [ 1.17113088  2.21703767  0.17289001]\n",
        "popt:  [ 21.3049727   39.08180627   0.79777624]\n",
        "perr:  [ 0.1671316   1.65104512  0.03140039]\n",
        "popt:  [ 22.07824534  64.49170555   0.94619982]\n",
        "perr:  [ 0.124187    2.776025    0.07224627]\n"
       ]
      }
     ],
     "prompt_number": 8
    },
    {
     "cell_type": "code",
     "collapsed": false,
     "input": [
      "def func(r, mu_e, r_e, n):\n",
      "    return mu_e + (2.5*(0.868*n-0.142))*((r/r_e)**(1./n)-1)\n",
      "\n",
      "xdata = r_032_reg[3]\n",
      "colors= ['#FFA61F', '#862DA6', '#00BC77']#, '#624A26', '#431B5B', '#104A33']\n",
      "ydata = np.array([median_mu_032_grandes,\n",
      "                  median_mu_041_grandes,\n",
      "                  median_mu_091_grandes])\n",
      "figx = plt.figure(figsize=(7,7))            \n",
      "ax1 = figx.add_subplot(111)            \n",
      "for i in range(len(ydata)):\n",
      "    ax1.plot(xdata, ydata[i], color= colors[i], label='z='+str(2-i), lw=1)\n",
      "    popt, pcov = curve_fit(func, xdata, ydata[i])\n",
      "    ax1.plot(xdata, func(xdata, *popt), color= colors[i] , label='z='+str(2-i)+'-fit', lw=1.3, linestyle='--')\n",
      "    perr = np.sqrt(np.diag(pcov))\n",
      "    print 'popt: ',popt\n",
      "    print 'perr: ',perr\n",
      "  \n",
      "ax1.set_xlabel('R [Kpc]')\n",
      "ax1.set_ylabel('$\\mu$ [$mag/arcsec^{2}$]')\n",
      "ax1.minorticks_on()\n",
      " \n",
      "plt.xlim(0,140)\n",
      "plt.ylim(50,16)     \n",
      "    \n",
      "xticks = ax1.xaxis.get_major_ticks()\n",
      "xticks[0].label1.set_visible(False)\n",
      "xticks[-1].label1.set_visible(False)\n",
      "\n",
      "yticks = ax1.yaxis.get_major_ticks()\n",
      "yticks[-1].label1.set_visible(False)\n",
      "#yticks[0].label1.set_visible(False)\n",
      "\n",
      "\n",
      "plt.legend(loc='lower left', frameon=False, scatterpoints=1,borderpad=0.6, labelspacing=0.1)\n",
      "plt.title('Regiones Grandes')\n",
      "plt.savefig('ajuste_regiones_grandes.pdf', format='pdf', dpi=1500,bbox_inches='tight')\n",
      "plt.show()"
     ],
     "language": "python",
     "metadata": {},
     "outputs": [
      {
       "output_type": "stream",
       "stream": "stdout",
       "text": [
        "popt:  [ 18.32529349   8.03082603   1.43778151]\n",
        "perr:  [ 0.84730008  1.32883215  0.09878806]\n",
        "popt:  [ 21.97879202  41.66448638   0.62888315]\n",
        "perr:  [ 0.13445712  1.13108579  0.01557346]\n",
        "popt:  [ 22.9334321   65.26923179   0.98966651]\n",
        "perr:  [ 0.08360442  1.9003814   0.05211577]\n"
       ]
      }
     ],
     "prompt_number": 11
    },
    {
     "cell_type": "code",
     "collapsed": false,
     "input": [],
     "language": "python",
     "metadata": {},
     "outputs": [],
     "prompt_number": 16
    },
    {
     "cell_type": "code",
     "collapsed": false,
     "input": [],
     "language": "python",
     "metadata": {},
     "outputs": []
    }
   ],
   "metadata": {}
  }
 ]
}