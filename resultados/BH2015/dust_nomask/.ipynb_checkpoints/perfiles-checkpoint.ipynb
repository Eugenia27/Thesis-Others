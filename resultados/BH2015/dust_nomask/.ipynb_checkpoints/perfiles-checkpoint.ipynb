{
 "metadata": {
  "name": "",
  "signature": "sha256:766b935e928d6827bb30de33fc568682fdb46f70e2e11aadcedf5dd8bf891772"
 },
 "nbformat": 3,
 "nbformat_minor": 0,
 "worksheets": [
  {
   "cells": [
    {
     "cell_type": "code",
     "collapsed": false,
     "input": [
      "import numpy as np\n",
      "import matplotlib as mpl\n",
      "import matplotlib.pyplot as plt "
     ],
     "language": "python",
     "metadata": {},
     "outputs": [],
     "prompt_number": 1
    },
    {
     "cell_type": "code",
     "collapsed": false,
     "input": [
      "n_tot_regiones = 30\n",
      "n_regiones     = 11 #numero de regiones en estudio, aquellas con AGN bueno.\n",
      "agn_bien       = np.array([0,0,0,1,1,1,1,1,0,1,0,0,1,0,0,0,1,0,0,0,0,0,1,0,1,0,0,0,0,1])"
     ],
     "language": "python",
     "metadata": {},
     "outputs": [],
     "prompt_number": 2
    },
    {
     "cell_type": "code",
     "collapsed": false,
     "input": [
      "with open('D'+str(3)+'/'+'032' +'/mean_munlog.txt') as f:\n",
      "    lineas032 = len(f.readlines())\n",
      "with open('D'+str(3)+'/'+'041' +'/mean_munlog.txt') as f:\n",
      "    lineas041 = len(f.readlines())\n",
      "with open('D'+str(3)+'/'+'091' +'/mean_munlog.txt') as f:\n",
      "    lineas091 = len(f.readlines())    \n",
      "    \n",
      "limite032 = lineas032 - 76\n",
      "limite041 = lineas041 - 76  \n",
      "limite091 = lineas091 - 76  \n",
      "print limite032, limite041,limite091 "
     ],
     "language": "python",
     "metadata": {},
     "outputs": [
      {
       "output_type": "stream",
       "stream": "stdout",
       "text": [
        "99 100 100\n"
       ]
      }
     ],
     "prompt_number": 3
    },
    {
     "cell_type": "code",
     "collapsed": false,
     "input": [
      "#defino los vectores de distancia radial y brillo superficial de cada regi\u00f3n, para cada redshift.\n",
      "\n",
      "r_032_reg  = np.zeros((n_tot_regiones,77))\n",
      "limite032 = lineas032 - 77  \n",
      "#mu_032_reg = np.zeros((n_tot_regiones,75))\n",
      "\n",
      "for j in range(n_tot_regiones):\n",
      "    if agn_bien[j] == 0 or j==6:\n",
      "        continue\n",
      "    print j\n",
      "    r_032_reg[j]  = np.genfromtxt('D'+str(j)+'/'+'032' +'/mean_munlog.txt', usecols=[0] , unpack=True, skip_footer= limite032)\n",
      "    #mu_032_reg[j] = np.genfromtxt('D'+str(j)+'/'+'032' +'/mean_munlog.txt', usecols=[1] , unpack=True, skip_footer= limite032)\n",
      "#limite032 = lineas032 - 77    \n",
      "#r_032_reg  = np.zeros(77)\n",
      "#r_032_reg[3]  = np.genfromtxt('D'+str(3)+'/'+'032' +'/mean_munlog.txt', usecols=[0] , unpack=True, skip_footer= limite032)\n",
      "print r_032_reg[3] \n",
      "#r_041_reg  = [(\"r\" + str(i)) for i in range(n_tot_regiones)]\n",
      "#mu_041_reg = [(\"mu\" + str(i)) for i in range(n_tot_regiones)]\n",
      "#for j in range(n_tot_regiones):\n",
      "#    if agn_bien[j] == 0:\n",
      "#        continue\n",
      "#    r_041_reg[j]  = np.genfromtxt('D'+str(j)+'/'+'041' +'/mean_munlog.txt', usecols=[0] , unpack=True)\n",
      "#    mu_041_reg[j] = np.genfromtxt('D'+str(j)+'/'+'041' +'/mean_munlog.txt', usecols=[1] , unpack=True)    \n",
      "    \n",
      "\n",
      "#r_091_reg  = [(\"r\" + str(i)) for i in range(n_tot_regiones)]\n",
      "#mu_091_reg = [(\"mu\" + str(i)) for i in range(n_tot_regiones)]\n",
      "#for j in range(n_tot_regiones):\n",
      "#    if agn_bien[j] == 0:\n",
      "#        continue\n",
      "#    r_091_reg[j]  = np.genfromtxt('D'+str(j)+'/'+'091' +'/mean_munlog.txt', usecols=[0] , unpack=True)\n",
      "#    mu_091_reg[j] = np.genfromtxt('D'+str(j)+'/'+'091' +'/mean_munlog.txt', usecols=[1] , unpack=True)    \n",
      "    \n",
      "    "
     ],
     "language": "python",
     "metadata": {},
     "outputs": [
      {
       "output_type": "stream",
       "stream": "stdout",
       "text": [
        "3\n",
        "4\n",
        "5\n",
        "7\n"
       ]
      },
      {
       "ename": "ValueError",
       "evalue": "could not broadcast input array from shape (78) into shape (77)",
       "output_type": "pyerr",
       "traceback": [
        "\u001b[1;31m---------------------------------------------------------------------------\u001b[0m\n\u001b[1;31mValueError\u001b[0m                                Traceback (most recent call last)",
        "\u001b[1;32m<ipython-input-8-f1d9da70bf92>\u001b[0m in \u001b[0;36m<module>\u001b[1;34m()\u001b[0m\n\u001b[0;32m      9\u001b[0m         \u001b[1;32mcontinue\u001b[0m\u001b[1;33m\u001b[0m\u001b[0m\n\u001b[0;32m     10\u001b[0m     \u001b[1;32mprint\u001b[0m \u001b[0mj\u001b[0m\u001b[1;33m\u001b[0m\u001b[0m\n\u001b[1;32m---> 11\u001b[1;33m     \u001b[0mr_032_reg\u001b[0m\u001b[1;33m[\u001b[0m\u001b[0mj\u001b[0m\u001b[1;33m]\u001b[0m  \u001b[1;33m=\u001b[0m \u001b[0mnp\u001b[0m\u001b[1;33m.\u001b[0m\u001b[0mgenfromtxt\u001b[0m\u001b[1;33m(\u001b[0m\u001b[1;34m'D'\u001b[0m\u001b[1;33m+\u001b[0m\u001b[0mstr\u001b[0m\u001b[1;33m(\u001b[0m\u001b[0mj\u001b[0m\u001b[1;33m)\u001b[0m\u001b[1;33m+\u001b[0m\u001b[1;34m'/'\u001b[0m\u001b[1;33m+\u001b[0m\u001b[1;34m'032'\u001b[0m \u001b[1;33m+\u001b[0m\u001b[1;34m'/mean_munlog.txt'\u001b[0m\u001b[1;33m,\u001b[0m \u001b[0musecols\u001b[0m\u001b[1;33m=\u001b[0m\u001b[1;33m[\u001b[0m\u001b[1;36m0\u001b[0m\u001b[1;33m]\u001b[0m \u001b[1;33m,\u001b[0m \u001b[0munpack\u001b[0m\u001b[1;33m=\u001b[0m\u001b[0mTrue\u001b[0m\u001b[1;33m,\u001b[0m \u001b[0mskip_footer\u001b[0m\u001b[1;33m=\u001b[0m \u001b[0mlimite032\u001b[0m\u001b[1;33m)\u001b[0m\u001b[1;33m\u001b[0m\u001b[0m\n\u001b[0m\u001b[0;32m     12\u001b[0m     \u001b[1;31m#mu_032_reg[j] = np.genfromtxt('D'+str(j)+'/'+'032' +'/mean_munlog.txt', usecols=[1] , unpack=True, skip_footer= limite032)\u001b[0m\u001b[1;33m\u001b[0m\u001b[1;33m\u001b[0m\u001b[0m\n\u001b[0;32m     13\u001b[0m \u001b[1;31m#limite032 = lineas032 - 77\u001b[0m\u001b[1;33m\u001b[0m\u001b[1;33m\u001b[0m\u001b[0m\n",
        "\u001b[1;31mValueError\u001b[0m: could not broadcast input array from shape (78) into shape (77)"
       ]
      }
     ],
     "prompt_number": 8
    },
    {
     "cell_type": "code",
     "collapsed": false,
     "input": [
      "dimension   = 77\n",
      "mean_mu_032 = np.zeros(dimension)\n",
      "mean_mu_041 = np.zeros(dimension)\n",
      "mean_mu_091 = np.zeros(dimension)\n",
      "for ii in range(dimension):\n",
      "    for jj in range(n_tot_regiones):\n",
      "        if agn_bien[jj] == 0:\n",
      "            continue\n",
      "        mean_mu_032[ii] = mean_mu_032[ii] + mu_032_reg[jj][ii] \n",
      "        mean_mu_041[ii] = mean_mu_041[ii] + mu_041_reg[jj][ii] \n",
      "        mean_mu_091[ii] = mean_mu_091[ii] + mu_091_reg[jj][ii]        \n",
      "    mean_mu_032[ii] = mean_mu_032[ii]/n_regiones  \n",
      "    mean_mu_041[ii] = mean_mu_041[ii]/n_regiones \n",
      "    mean_mu_091[ii] = mean_mu_091[ii]/n_regiones \n"
     ],
     "language": "python",
     "metadata": {},
     "outputs": [
      {
       "ename": "NameError",
       "evalue": "name 'mu_041_reg' is not defined",
       "output_type": "pyerr",
       "traceback": [
        "\u001b[1;31m---------------------------------------------------------------------------\u001b[0m\n\u001b[1;31mNameError\u001b[0m                                 Traceback (most recent call last)",
        "\u001b[1;32m<ipython-input-37-9ce7fe90b648>\u001b[0m in \u001b[0;36m<module>\u001b[1;34m()\u001b[0m\n\u001b[0;32m      8\u001b[0m             \u001b[1;32mcontinue\u001b[0m\u001b[1;33m\u001b[0m\u001b[0m\n\u001b[0;32m      9\u001b[0m         \u001b[0mmean_mu_032\u001b[0m\u001b[1;33m[\u001b[0m\u001b[0mii\u001b[0m\u001b[1;33m]\u001b[0m \u001b[1;33m=\u001b[0m \u001b[0mmean_mu_032\u001b[0m\u001b[1;33m[\u001b[0m\u001b[0mii\u001b[0m\u001b[1;33m]\u001b[0m \u001b[1;33m+\u001b[0m \u001b[0mmu_032_reg\u001b[0m\u001b[1;33m[\u001b[0m\u001b[0mjj\u001b[0m\u001b[1;33m]\u001b[0m\u001b[1;33m[\u001b[0m\u001b[0mii\u001b[0m\u001b[1;33m]\u001b[0m\u001b[1;33m\u001b[0m\u001b[0m\n\u001b[1;32m---> 10\u001b[1;33m         \u001b[0mmean_mu_041\u001b[0m\u001b[1;33m[\u001b[0m\u001b[0mii\u001b[0m\u001b[1;33m]\u001b[0m \u001b[1;33m=\u001b[0m \u001b[0mmean_mu_041\u001b[0m\u001b[1;33m[\u001b[0m\u001b[0mii\u001b[0m\u001b[1;33m]\u001b[0m \u001b[1;33m+\u001b[0m \u001b[0mmu_041_reg\u001b[0m\u001b[1;33m[\u001b[0m\u001b[0mjj\u001b[0m\u001b[1;33m]\u001b[0m\u001b[1;33m[\u001b[0m\u001b[0mii\u001b[0m\u001b[1;33m]\u001b[0m\u001b[1;33m\u001b[0m\u001b[0m\n\u001b[0m\u001b[0;32m     11\u001b[0m         \u001b[0mmean_mu_091\u001b[0m\u001b[1;33m[\u001b[0m\u001b[0mii\u001b[0m\u001b[1;33m]\u001b[0m \u001b[1;33m=\u001b[0m \u001b[0mmean_mu_091\u001b[0m\u001b[1;33m[\u001b[0m\u001b[0mii\u001b[0m\u001b[1;33m]\u001b[0m \u001b[1;33m+\u001b[0m \u001b[0mmu_091_reg\u001b[0m\u001b[1;33m[\u001b[0m\u001b[0mjj\u001b[0m\u001b[1;33m]\u001b[0m\u001b[1;33m[\u001b[0m\u001b[0mii\u001b[0m\u001b[1;33m]\u001b[0m\u001b[1;33m\u001b[0m\u001b[0m\n\u001b[0;32m     12\u001b[0m     \u001b[0mmean_mu_032\u001b[0m\u001b[1;33m[\u001b[0m\u001b[0mii\u001b[0m\u001b[1;33m]\u001b[0m \u001b[1;33m=\u001b[0m \u001b[0mmean_mu_032\u001b[0m\u001b[1;33m[\u001b[0m\u001b[0mii\u001b[0m\u001b[1;33m]\u001b[0m\u001b[1;33m/\u001b[0m\u001b[0mn_regiones\u001b[0m\u001b[1;33m\u001b[0m\u001b[0m\n",
        "\u001b[1;31mNameError\u001b[0m: name 'mu_041_reg' is not defined"
       ]
      }
     ],
     "prompt_number": 37
    },
    {
     "cell_type": "code",
     "collapsed": false,
     "input": [
      "r_032 = r_032_reg[3][0:77]\n",
      "r_041 = r_032_reg[3][0:77]\n",
      "r_091 = r_032_reg[3][0:77]\n",
      "plt.plot(r_032,mean_mu_032)\n",
      "plt.plot(r_041,mean_mu_041)\n",
      "plt.plot(r_091,mean_mu_091)\n",
      "\n",
      "plt.ylim(45,16)\n",
      "plt.show()"
     ],
     "language": "python",
     "metadata": {},
     "outputs": [],
     "prompt_number": 54
    },
    {
     "cell_type": "code",
     "collapsed": false,
     "input": [],
     "language": "python",
     "metadata": {},
     "outputs": []
    }
   ],
   "metadata": {}
  }
 ]
}