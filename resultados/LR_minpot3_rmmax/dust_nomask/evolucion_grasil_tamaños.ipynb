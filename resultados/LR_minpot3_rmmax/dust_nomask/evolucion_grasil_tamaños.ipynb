{
 "metadata": {
  "name": "",
  "signature": "sha256:5da474022378a261d7b2eb811f14c0d66543f293528c09abeda7307186735042"
 },
 "nbformat": 3,
 "nbformat_minor": 0,
 "worksheets": [
  {
   "cells": [
    {
     "cell_type": "code",
     "collapsed": false,
     "input": [
      "import numpy as np\n",
      "import matplotlib as mpl\n",
      "import matplotlib.pyplot as plt\n",
      "from matplotlib.offsetbox import AnchoredText\n",
      "\n",
      "m32bp = np.loadtxt('032_BP_results.txt',usecols=[4], unpack=True)\n",
      "m41bp = np.loadtxt('041_BP_results.txt',usecols=[4], unpack=True)\n",
      "m91   = np.loadtxt('091_BP_results.txt',usecols=[4], unpack=True)\n",
      "m32dp = np.loadtxt('032_DP_results.txt',usecols=[4], unpack=True)\n",
      "m41dp = np.loadtxt('041_BP_results.txt',usecols=[4], unpack=True)    \n",
      "        "
     ],
     "language": "python",
     "metadata": {},
     "outputs": [],
     "prompt_number": 1
    },
    {
     "cell_type": "code",
     "collapsed": false,
     "input": [
      "med032bp=np.median(m32bp)\n",
      "med041bp=np.median(m41bp)\n",
      "med032dp=np.median(m32dp)\n",
      "med041dp=np.median(m41dp)\n",
      "med091  =np.median(m91)\n",
      "\n",
      "max032bp=np.max(m32bp)\n",
      "max041bp=np.max(m41bp)\n",
      "max032dp=np.max(m32dp)\n",
      "max041dp=np.max(m41dp)\n",
      "max091  =np.max(m91)\n",
      "\n",
      "min032bp=np.min(m32bp)\n",
      "min041bp=np.min(m41bp)\n",
      "min032dp=np.min(m32dp)\n",
      "min041dp=np.min(m41dp)\n",
      "min091  =np.min(m91)"
     ],
     "language": "python",
     "metadata": {},
     "outputs": [],
     "prompt_number": 2
    },
    {
     "cell_type": "code",
     "collapsed": false,
     "input": [
      "from matplotlib.offsetbox import AnchoredText\n",
      "\n",
      "plt.rc('text', usetex=True)\n",
      "font = {'family': 'serif', 'size': 35, 'serif': ['computer modern roman']}\n",
      "plt.rc('font', **font)\n",
      "plt.rc('legend', **{'fontsize': 27}) \n",
      "plt.rcParams['text.latex.preamble'] = [r'\\usepackage{amsmath}']\n",
      "\n",
      "plt.rcParams['axes.linewidth'] = 1.0\n",
      "plt.rcParams['xtick.major.size'] = 8\n",
      "plt.rcParams['xtick.minor.size'] = 4\n",
      "plt.rcParams['ytick.major.size'] = 6\n",
      "plt.rcParams['ytick.minor.size'] = 3\n",
      "mpl.rc('lines', linewidth=3)"
     ],
     "language": "python",
     "metadata": {},
     "outputs": [],
     "prompt_number": 3
    },
    {
     "cell_type": "code",
     "collapsed": false,
     "input": [
      "from matplotlib.ticker import NullFormatter,MultipleLocator, FormatStrFormatter\n",
      "\n",
      "fig = plt.figure(figsize=(7,7))\n",
      "\n",
      "ax1 = fig.add_subplot(111)\n",
      "#ax1.scatter([2,2],[np.log10(m32dp[1]),np.log10(m32dp[2])],marker='o',s=90, color=['black','blue'],linewidth='1',alpha\n",
      "ax1.scatter([2.,1., 0.],[med032dp,med041dp,med091],marker='o',s=90, color='#810090', hatch=\"X\", linewidth='1',alpha=0.7)\n",
      "ax1.plot([2.,1., 0.],[med032dp,med041dp,med091],label='Progenitor Directo',color='#810090')\n",
      "\n",
      "#ax1.scatter([2.,2],[np.log10(m32bp[1]),np.log10(m32bp[2])],marker='o',s=90, color=['black','blue'],linewidth='1',alpha=0.7)\n",
      "ax1.scatter([2.,1., 0.],[med032bp,med041bp,med091],marker='o',s=90, color='#028957',linewidth='1',alpha=0.7)\n",
      "ax1.plot([2.,1., 0.],[med032bp,med041bp,med091],label='Progenitor Sesgado',color='#028957')\n",
      "\n",
      "ax1.fill_between([2.,1., 0.], [min032bp,min041bp,min091], [max032bp,max041bp,max091],\n",
      "                 alpha=0.4,edgecolor='#028957', facecolor='#028957')\n",
      "ax1.fill_between([2.,1., 0.],  [min032dp,min041dp,min091], [max032dp,max041dp,max091],\n",
      "                edgecolor='#810090', hatch=\"///\", color='none', facecolor='none')\n",
      "\n",
      "plt.text(0,10.9,'con Polvo - con Mascaras',horizontalalignment='left', verticalalignment='top',fontsize=20)\n",
      "ax1.legend(loc='upper right', frameon=False, scatterpoints=1,borderpad=0.9, labelspacing=0.2)\n",
      "ax1.set_xlabel('z')\n",
      "ax1.set_ylabel('R$_{\\mu_{24}}$ [Kpc]')\n",
      "ax1.set_ylim(0,160)\n",
      "ax1.set_xlim(-0.1,2.1)\n",
      "yticks = ax1.yaxis.get_major_ticks()\n",
      "yticks[-1].label1.set_visible(False)\n",
      "yticks[0].label1.set_visible(False)\n",
      "xticks = ax1.xaxis.get_major_ticks()\n",
      "xticks[-1].label1.set_visible(False)\n",
      "xticks[0].label1.set_visible(False)\n",
      "ax1.minorticks_on()\n",
      "\n",
      "plt.savefig('evolucion_R_mu24.pdf', format='pdf', dpi=1500,bbox_inches='tight')\n",
      "plt.show()"
     ],
     "language": "python",
     "metadata": {},
     "outputs": [],
     "prompt_number": 5
    },
    {
     "cell_type": "code",
     "collapsed": false,
     "input": [],
     "language": "python",
     "metadata": {},
     "outputs": []
    }
   ],
   "metadata": {}
  }
 ]
}