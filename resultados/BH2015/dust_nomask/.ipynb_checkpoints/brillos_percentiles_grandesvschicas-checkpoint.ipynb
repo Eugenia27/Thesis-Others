{
 "metadata": {
  "name": "",
  "signature": "sha256:4009091d2ecece575c4dd5efc5a721bb4e774a5d54f62ab92288f79e8c57c97f"
 },
 "nbformat": 3,
 "nbformat_minor": 0,
 "worksheets": [
  {
   "cells": [
    {
     "cell_type": "code",
     "collapsed": false,
     "input": [
      "import numpy as np\n",
      "import matplotlib as mpl\n",
      "import matplotlib.pyplot as plt \n",
      "from scipy.optimize import curve_fit"
     ],
     "language": "python",
     "metadata": {},
     "outputs": [],
     "prompt_number": 1
    },
    {
     "cell_type": "code",
     "collapsed": false,
     "input": [
      "n_tot_regiones = 30\n",
      "n_regiones     = 11 #numero de regiones en estudio, aquellas con AGN bueno.\n",
      "agn_bien       = np.array([0,0,0,1,1,1,1,1,0,1,0,0,1,0,0,0,1,0,0,0,0,0,1,0,1,0,0,0,0,1])\n",
      "grandes        = np.array([0,0,0,0,0,0,1,1,0,1,0,0,1,0,0,0,1,0,0,0,0,0,1,0,1,0,0,0,0,1])\n",
      "chicas         = np.array([0,0,0,1,1,1,0,0,0,0,0,0,0,0,0,0,0,0,0,0,0,0,0,0,0,0,0,0,0,0])"
     ],
     "language": "python",
     "metadata": {},
     "outputs": [],
     "prompt_number": 2
    },
    {
     "cell_type": "code",
     "collapsed": false,
     "input": [
      "#defino los vectores de distancia radial y brillo superficial de cada regi\u00f3n, para cada redshift.\n",
      "limite_oficial = 70\n",
      "\n",
      "r_032_reg   = np.zeros((n_tot_regiones,limite_oficial))\n",
      "r_041_reg   = np.zeros((n_tot_regiones,limite_oficial))\n",
      "r_091_reg   = np.zeros((n_tot_regiones,limite_oficial))\n",
      "mu_032_reg  = np.zeros((n_tot_regiones,limite_oficial))\n",
      "mu_041_reg  = np.zeros((n_tot_regiones,limite_oficial))\n",
      "mu_091_reg  = np.zeros((n_tot_regiones,limite_oficial))\n",
      " \n",
      "for j in range(n_tot_regiones):\n",
      "    if agn_bien[j] == 0:\n",
      "        continue\n",
      "    with open('D'+str(j)+'/'+'032' +'/mean_munlog.txt') as f:\n",
      "        lineas032 = len(f.readlines())\n",
      "    limite032 = lineas032 - limite_oficial \n",
      "    r_032_reg[j]  = np.genfromtxt('D'+str(j)+'/'+'032' +'/mean_munlog.txt', usecols=[0] , unpack=True,skip_footer= limite032)\n",
      "    mu_032_reg[j] = np.genfromtxt('D'+str(j)+'/'+'032' +'/mean_munlog.txt', usecols=[1] , unpack=True,skip_footer= limite032)         \n",
      "    \n",
      "for j in range(n_tot_regiones):\n",
      "    if agn_bien[j] == 0:\n",
      "        continue\n",
      "    with open('D'+str(j)+'/'+'041' +'/mean_munlog.txt') as f:\n",
      "        lineas041 = len(f.readlines())\n",
      "    limite041 = lineas041 - limite_oficial \n",
      "    r_041_reg[j]  = np.genfromtxt('D'+str(j)+'/'+'041' +'/mean_munlog.txt', usecols=[0] , unpack=True,skip_footer= limite041)\n",
      "    mu_041_reg[j] = np.genfromtxt('D'+str(j)+'/'+'041' +'/mean_munlog.txt', usecols=[1] , unpack=True,skip_footer= limite041)    \n",
      "\n",
      "for j in range(n_tot_regiones):\n",
      "    if agn_bien[j] == 0:\n",
      "        continue\n",
      "    with open('D'+str(j)+'/'+'091' +'/mean_munlog.txt') as f:\n",
      "        lineas091 = len(f.readlines())\n",
      "    limite091 = lineas091 - limite_oficial \n",
      "    r_091_reg[j]  = np.genfromtxt('D'+str(j)+'/'+'091' +'/mean_munlog.txt', usecols=[0] , unpack=True,skip_footer= limite091)\n",
      "    mu_091_reg[j] = np.genfromtxt('D'+str(j)+'/'+'091' +'/mean_munlog.txt', usecols=[1] , unpack=True,skip_footer= limite091)     "
     ],
     "language": "python",
     "metadata": {},
     "outputs": [],
     "prompt_number": 3
    },
    {
     "cell_type": "code",
     "collapsed": false,
     "input": [
      "dimension   = 70\n",
      "median_mu_032_grandes = np.zeros(dimension)\n",
      "median_mu_041_grandes = np.zeros(dimension)\n",
      "median_mu_091_grandes = np.zeros(dimension)\n",
      "percentil_032_sup_grandes = np.zeros(dimension)\n",
      "percentil_041_sup_grandes = np.zeros(dimension)\n",
      "percentil_091_sup_grandes = np.zeros(dimension)\n",
      "percentil_032_inf_grandes = np.zeros(dimension)\n",
      "percentil_041_inf_grandes = np.zeros(dimension)\n",
      "percentil_091_inf_grandes = np.zeros(dimension)\n",
      "\n",
      "for ii in range(dimension):\n",
      "    regions032 = np.array([])\n",
      "    regions041 = np.array([])\n",
      "    regions091 = np.array([])\n",
      "    for jj in range(n_tot_regiones):\n",
      "        if grandes[jj] == 0:\n",
      "            continue\n",
      "        regions032 = np.append(regions032, mu_032_reg[jj][ii])\n",
      "        regions041 = np.append(regions041, mu_041_reg[jj][ii])\n",
      "        regions091 = np.append(regions091, mu_091_reg[jj][ii])        \n",
      "    median_mu_032_grandes[ii] = np.median(regions032)\n",
      "    median_mu_041_grandes[ii] = np.median(regions041)\n",
      "    median_mu_091_grandes[ii] = np.median(regions091)\n",
      "    percentil_032_sup_grandes[ii] = np.percentile(regions032,75)\n",
      "    percentil_041_sup_grandes[ii] = np.percentile(regions041,75)\n",
      "    percentil_091_sup_grandes[ii] = np.percentile(regions091,75)\n",
      "    percentil_032_inf_grandes[ii] = np.percentile(regions032,25)\n",
      "    percentil_041_inf_grandes[ii] = np.percentile(regions041,25)\n",
      "    percentil_091_inf_grandes[ii] = np.percentile(regions091,25)    \n",
      "    \n",
      "#print median_mu_032\n"
     ],
     "language": "python",
     "metadata": {},
     "outputs": [],
     "prompt_number": 4
    },
    {
     "cell_type": "code",
     "collapsed": false,
     "input": [
      "dimension   = 70\n",
      "median_mu_032_chicas = np.zeros(dimension)\n",
      "median_mu_041_chicas = np.zeros(dimension)\n",
      "median_mu_091_chicas = np.zeros(dimension)\n",
      "percentil_032_sup_chicas = np.zeros(dimension)\n",
      "percentil_041_sup_chicas = np.zeros(dimension)\n",
      "percentil_091_sup_chicas = np.zeros(dimension)\n",
      "percentil_032_inf_chicas = np.zeros(dimension)\n",
      "percentil_041_inf_chicas = np.zeros(dimension)\n",
      "percentil_091_inf_chicas = np.zeros(dimension)\n",
      "\n",
      "for ii in range(dimension):\n",
      "    regions032 = np.array([])\n",
      "    regions041 = np.array([])\n",
      "    regions091 = np.array([])\n",
      "    for jj in range(n_tot_regiones):\n",
      "        if chicas[jj] == 0:\n",
      "            continue\n",
      "        regions032 = np.append(regions032, mu_032_reg[jj][ii])\n",
      "        regions041 = np.append(regions041, mu_041_reg[jj][ii])\n",
      "        regions091 = np.append(regions091, mu_091_reg[jj][ii])        \n",
      "    median_mu_032_chicas[ii] = np.median(regions032)\n",
      "    median_mu_041_chicas[ii] = np.median(regions041)\n",
      "    median_mu_091_chicas[ii] = np.median(regions091)\n",
      "    percentil_032_sup_chicas[ii] = np.percentile(regions032,75)\n",
      "    percentil_041_sup_chicas[ii] = np.percentile(regions041,75)\n",
      "    percentil_091_sup_chicas[ii] = np.percentile(regions091,75)\n",
      "    percentil_032_inf_chicas[ii] = np.percentile(regions032,25)\n",
      "    percentil_041_inf_chicas[ii] = np.percentile(regions041,25)\n",
      "    percentil_091_inf_chicas[ii] = np.percentile(regions091,25)    \n",
      "    "
     ],
     "language": "python",
     "metadata": {},
     "outputs": [],
     "prompt_number": 5
    },
    {
     "cell_type": "code",
     "collapsed": false,
     "input": [
      "from matplotlib.offsetbox import AnchoredText\n",
      "\n",
      "plt.rc('text', usetex=True)\n",
      "font = {'family': 'serif', 'size': 35, 'serif': ['computer modern roman']}\n",
      "plt.rc('font', **font)\n",
      "plt.rc('legend', **{'fontsize': 27}) \n",
      "plt.rcParams['text.latex.preamble'] = [r'\\usepackage{amsmath}']\n",
      "\n",
      "plt.rcParams['axes.linewidth'] = 1.0\n",
      "plt.rcParams['xtick.major.size'] = 8\n",
      "plt.rcParams['xtick.minor.size'] = 4\n",
      "plt.rcParams['ytick.major.size'] = 6\n",
      "plt.rcParams['ytick.minor.size'] = 3\n",
      "mpl.rc('lines', linewidth=3)"
     ],
     "language": "python",
     "metadata": {},
     "outputs": [],
     "prompt_number": 6
    },
    {
     "cell_type": "code",
     "collapsed": false,
     "input": [
      "\n",
      "fig = plt.figure(figsize=(7,7))\n",
      "\n",
      "ax1 = fig.add_subplot(111)\n",
      "\n",
      "z0=ax1.plot(r_032_reg[3],median_mu_032_grandes, color= '#FFA61F', label = 'z=2')\n",
      "z1=ax1.plot(r_041_reg[3],median_mu_041_grandes, color= '#862DA6', label = 'z=1')\n",
      "z2=ax1.plot(r_091_reg[3],median_mu_091_grandes, color= '#00BC77', label = 'z=0')\n",
      "\n",
      "ax1.fill_between(r_032_reg[3],percentil_032_inf_grandes , percentil_032_sup_grandes, color= '#FFA61F' , alpha =0.3)\n",
      "ax1.fill_between(r_032_reg[3],percentil_041_inf_grandes , percentil_041_sup_grandes, color= '#862DA6' , alpha =0.3)\n",
      "ax1.fill_between(r_032_reg[3],percentil_091_inf_grandes , percentil_091_sup_grandes, color= '#00BC77' , alpha =0.3)\n",
      "\n",
      "ax1.plot(r_032_reg[3],median_mu_032_chicas, color= '#FFA61F')\n",
      "ax1.plot(r_041_reg[3],median_mu_041_chicas, color= '#862DA6')\n",
      "ax1.plot(r_091_reg[3],median_mu_091_chicas, color= '#00BC77')\n",
      "\n",
      "ax1.fill_between(r_032_reg[3],percentil_032_inf_chicas , percentil_032_sup_chicas, edgecolor='#FFA61F',\n",
      "                 hatch=\"///\", color='none', facecolor='none')\n",
      "ax1.fill_between(r_032_reg[3],percentil_041_inf_chicas , percentil_041_sup_chicas, edgecolor='#862DA6',\n",
      "                 hatch=\"///\",color='none', facecolor='none')\n",
      "ax1.fill_between(r_032_reg[3],percentil_091_inf_chicas , percentil_091_sup_chicas, edgecolor='#00BC77',\n",
      "                 hatch=\"///\", color='none', facecolor='none')\n",
      "\n",
      "ax1.set_xlabel('R [Kpc]  x10')\n",
      "ax1.set_ylabel('$\\mu$ [$mag/arcsec^{2}$]')\n",
      "ax1.minorticks_on()\n",
      "\n",
      "grandes = plt.Rectangle((0,0), 0,0, color='black', alpha=0.3)\n",
      "chicas = plt.Rectangle((0,0), 0,0, edgecolor='black',hatch=\"///\", fill='false',facecolor='none')\n",
      "#fill91 = plt.Rectangle((0,0), 0,0, edgecolor='#00BC77',hatch=\"///\", fill='false',facecolor='none')\n",
      "objects = [z0[0], z1[0], z2[0], grandes,chicas]\n",
      "labels = ['z=2','z=1','z=0','Grandes','Chicas']\n",
      "ax1.legend(objects, labels, loc='lower left', frameon=False, scatterpoints=1,borderpad=0.6, labelspacing=0.2)\n",
      "\n",
      "xticks = ax1.xaxis.get_major_ticks()\n",
      "xticks[0].label1.set_visible(False)\n",
      "xticks[-1].label1.set_visible(False)\n",
      "\n",
      "yticks = ax1.yaxis.get_major_ticks()\n",
      "yticks[-1].label1.set_visible(False)\n",
      "\n",
      "plt.xlim(0,150)\n",
      "plt.ylim(50,16)\n",
      "\n",
      "plt.savefig('brillos_percentiles_grandesvschicas.pdf', format='pdf', dpi=1500,bbox_inches='tight')\n",
      "plt.show()"
     ],
     "language": "python",
     "metadata": {},
     "outputs": [
      {
       "output_type": "stream",
       "stream": "stderr",
       "text": [
        "/usr/lib64/python2.7/site-packages/matplotlib/collections.py:590: FutureWarning: elementwise comparison failed; returning scalar instead, but in the future will perform elementwise comparison\n",
        "  if self._edgecolors == str('face'):\n"
       ]
      }
     ],
     "prompt_number": 7
    },
    {
     "cell_type": "code",
     "collapsed": false,
     "input": [
      "def func(r, mu_e, r_e, n):\n",
      "    return mu_e + (2.5*(0.868*n-0.142))*((r/r_e)**(1./n)-1)\n",
      "\n",
      "xdata = r_032_reg[3]\n",
      "colors= ['#FFA61F', '#862DA6', '#00BC77']#, '#624A26', '#431B5B', '#104A33']\n",
      "ydata = np.array([median_mu_032_grandes,\n",
      "                  median_mu_041_grandes,\n",
      "                  median_mu_091_grandes])\n",
      "                  #median_mu_032_chicas,\n",
      "                  #median_mu_041_chicas,\n",
      "                  #median_mu_091_chicas])            \n",
      "print ydata[0]"
     ],
     "language": "python",
     "metadata": {},
     "outputs": [
      {
       "output_type": "stream",
       "stream": "stdout",
       "text": [
        "[ 17.76   19.095  19.5    19.835  20.29   20.5    20.66   20.965  21.17\n",
        "  21.29   21.515  21.7    21.99   22.17   22.285  22.35   22.505  22.635\n",
        "  22.715  22.685  22.89   23.11   23.475  23.595  23.77   23.655  24.05\n",
        "  24.44   24.395  24.9    25.24   25.995  25.95   25.695  26.185  26.635\n",
        "  27.06   27.5    27.23   27.63   28.46   28.71   29.17   28.88   28.635\n",
        "  29.025  29.97   30.335  31.16   31.55   32.45   33.095  33.2    33.21\n",
        "  33.515  33.36   34.15   34.065  34.54   34.61   34.99   35.275  35.82\n",
        "  36.175  36.235  36.86   37.34   37.79   38.59   39.285]\n"
       ]
      }
     ],
     "prompt_number": 8
    },
    {
     "cell_type": "code",
     "collapsed": false,
     "input": [
      "print xdata"
     ],
     "language": "python",
     "metadata": {},
     "outputs": [
      {
       "output_type": "stream",
       "stream": "stdout",
       "text": [
        "[   1.005    3.016    5.026    7.037    9.047   11.06    13.07    15.08\n",
        "   17.09    19.1     21.11    23.12    25.13    27.14    29.15    31.16\n",
        "   33.17    35.18    37.19    39.2     41.21    43.22    45.24    47.25\n",
        "   49.26    51.27    53.28    55.29    57.3     59.31    61.32    63.33\n",
        "   65.34    67.35    69.36    71.37    73.38    75.39    77.4     79.41\n",
        "   81.42    83.43    85.44    87.45    89.47    91.48    93.49    95.5\n",
        "   97.51    99.52   101.5    103.5    105.5    107.6    109.6    111.6\n",
        "  113.6    115.6    117.6    119.6    121.6    123.6    125.7    127.7\n",
        "  129.7    131.7    133.7    135.7    137.7    139.7  ]\n"
       ]
      }
     ],
     "prompt_number": 9
    },
    {
     "cell_type": "code",
     "collapsed": false,
     "input": [],
     "language": "python",
     "metadata": {},
     "outputs": [
      {
       "output_type": "stream",
       "stream": "stdout",
       "text": [
        "popt:  [ 17.71992348   0.4803371    1.30684112]\n",
        "perr:  [ 0.99465952  0.08656767  0.09986318]\n",
        "popt:  [ 21.78994194   1.97415935   0.79467297]\n",
        "perr:  [ 0.18364469  0.0855454   0.02964514]\n",
        "popt:  [ 24.05531116   5.45441248   1.49208005]\n",
        "perr:  [ 0.07244676  0.13663278  0.08230462]\n"
       ]
      }
     ],
     "prompt_number": 15
    },
    {
     "cell_type": "code",
     "collapsed": false,
     "input": [
      "def func(r, mu_e, r_e, n):\n",
      "    return mu_e + (2.5*(0.868*n-0.142))*((r/r_e)**(1./n)-1)\n",
      "\n",
      "xdata = r_032_reg[3]\n",
      "colors= ['#FFA61F', '#862DA6', '#00BC77']#, '#624A26', '#431B5B', '#104A33']\n",
      "ydata = np.array([median_mu_032_chicas,\n",
      "                  median_mu_041_chicas,\n",
      "                  median_mu_091_chicas])\n",
      "figx = plt.figure(figsize=(7,7))            \n",
      "ax1 = figx.add_subplot(111)            \n",
      "for i in range(len(ydata)):\n",
      "    ax1.plot(xdata, ydata[i], color= colors[i], label='z='+str(2-i), lw=1)\n",
      "    popt, pcov = curve_fit(func, xdata, ydata[i])\n",
      "    ax1.plot(xdata, func(xdata, *popt), color= colors[i] , label='z='+str(2-i)+'-fit', lw=1.3, linestyle='--')\n",
      "    perr = np.sqrt(np.diag(pcov))\n",
      "    print 'popt: ',popt\n",
      "    print 'perr: ',perr\n",
      "  \n",
      "ax1.set_xlabel('R [Kpc]')\n",
      "ax1.set_ylabel('$\\mu$ [$mag/arcsec^{2}$]')\n",
      "ax1.minorticks_on()\n",
      " \n",
      "plt.xlim(0,140)\n",
      "plt.ylim(50,16)     \n",
      "    \n",
      "xticks = ax1.xaxis.get_major_ticks()\n",
      "xticks[0].label1.set_visible(False)\n",
      "xticks[-1].label1.set_visible(False)\n",
      "\n",
      "yticks = ax1.yaxis.get_major_ticks()\n",
      "yticks[-1].label1.set_visible(False)\n",
      "#yticks[0].label1.set_visible(False)\n",
      "\n",
      "\n",
      "plt.legend(loc='lower left', frameon=False, scatterpoints=1,borderpad=0.6, labelspacing=0.1)\n",
      "plt.title('Regiones Chicas')\n",
      "plt.savefig('ajuste_regiones_chicas.pdf', format='pdf', dpi=1500,bbox_inches='tight')\n",
      "plt.show()"
     ],
     "language": "python",
     "metadata": {},
     "outputs": [
      {
       "output_type": "stream",
       "stream": "stdout",
       "text": [
        "popt:  [ 18.59719028   6.31323379   1.11542369]\n",
        "perr:  [ 0.75714126  0.85650773  0.07350147]\n",
        "popt:  [ 21.87817427  20.66372507   0.75176147]\n",
        "perr:  [ 0.1776612   0.90906868  0.03169787]\n",
        "popt:  [ 24.36419086  62.47214834   1.80674216]\n",
        "perr:  [ 0.07168652  1.87240357  0.08093028]\n"
       ]
      }
     ],
     "prompt_number": 17
    },
    {
     "cell_type": "code",
     "collapsed": false,
     "input": [
      "def func(r, mu_e, r_e, n):\n",
      "    return mu_e + (2.5*(0.868*n-0.142))*((r/r_e)**(1./n)-1)\n",
      "\n",
      "xdata = r_032_reg[3]\n",
      "colors= ['#FFA61F', '#862DA6', '#00BC77']#, '#624A26', '#431B5B', '#104A33']\n",
      "ydata = np.array([median_mu_032_grandes,\n",
      "                  median_mu_041_grandes,\n",
      "                  median_mu_091_grandes])\n",
      "figx = plt.figure(figsize=(7,7))            \n",
      "ax1 = figx.add_subplot(111)            \n",
      "for i in range(len(ydata)):\n",
      "    ax1.plot(xdata, ydata[i], color= colors[i], label='z='+str(2-i), lw=1)\n",
      "    popt, pcov = curve_fit(func, xdata, ydata[i])\n",
      "    ax1.plot(xdata, func(xdata, *popt), color= colors[i] , label='z='+str(2-i)+'-fit', lw=1.3, linestyle='--')\n",
      "    perr = np.sqrt(np.diag(pcov))\n",
      "    print 'popt: ',popt\n",
      "    print 'perr: ',perr\n",
      "  \n",
      "ax1.set_xlabel('R [Kpc]')\n",
      "ax1.set_ylabel('$\\mu$ [$mag/arcsec^{2}$]')\n",
      "ax1.minorticks_on()\n",
      " \n",
      "plt.xlim(0,140)\n",
      "plt.ylim(50,16)     \n",
      "    \n",
      "xticks = ax1.xaxis.get_major_ticks()\n",
      "xticks[0].label1.set_visible(False)\n",
      "xticks[-1].label1.set_visible(False)\n",
      "\n",
      "yticks = ax1.yaxis.get_major_ticks()\n",
      "yticks[-1].label1.set_visible(False)\n",
      "#yticks[0].label1.set_visible(False)\n",
      "\n",
      "\n",
      "plt.legend(loc='lower left', frameon=False, scatterpoints=1,borderpad=0.6, labelspacing=0.1)\n",
      "plt.title('Regiones Chicas')\n",
      "plt.savefig('ajuste_regiones_grandes.pdf', format='pdf', dpi=1500,bbox_inches='tight')\n",
      "plt.show()"
     ],
     "language": "python",
     "metadata": {},
     "outputs": [
      {
       "output_type": "stream",
       "stream": "stdout",
       "text": [
        "popt:  [ 20.92904177  20.47619779   0.67961496]\n",
        "perr:  [ 0.13848137  0.62459859  0.01912621]\n",
        "popt:  [ 21.9109603   31.94332877   1.35817881]\n",
        "perr:  [ 0.08003987  0.89491597  0.07428426]\n",
        "popt:  [ 23.34172659  68.51313349   1.6901088 ]\n",
        "perr:  [ 0.03511807  1.0490171   0.03665332]\n"
       ]
      }
     ],
     "prompt_number": 18
    },
    {
     "cell_type": "code",
     "collapsed": false,
     "input": [],
     "language": "python",
     "metadata": {},
     "outputs": [],
     "prompt_number": 16
    },
    {
     "cell_type": "code",
     "collapsed": false,
     "input": [],
     "language": "python",
     "metadata": {},
     "outputs": []
    }
   ],
   "metadata": {}
  }
 ]
}