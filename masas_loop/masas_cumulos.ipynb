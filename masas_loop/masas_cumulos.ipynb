{
 "metadata": {
  "name": "",
  "signature": "sha256:e13224d9c18bbd5a200ba509f806b5e74ad6094a2e232d67b099c96cce8b3768"
 },
 "nbformat": 3,
 "nbformat_minor": 0,
 "worksheets": [
  {
   "cells": [
    {
     "cell_type": "code",
     "collapsed": false,
     "input": [
      "import numpy as np\n",
      "import matplotlib as mpl\n",
      "import matplotlib.pyplot as plt \n",
      "\n",
      "r200_032dp,m200_032dp,r500_032dp,m500_032dp = np.loadtxt('032_BH2015_DirectProgenitor_Masses.txt',usecols=[4,5,6,7], unpack=True)\n",
      "r200_041dp,m200_041dp,r500_041dp,m500_041dp = np.loadtxt('041_BH2015_DirectProgenitor_Masses.txt',usecols=[4,5,6,7], unpack=True)\n",
      "r200_091dp,m200_091dp,r500_091dp,m500_091dp = np.loadtxt('091_BH2015_BiasedProgenitor_Masses.txt',usecols=[4,5,6,7], unpack=True)\n",
      "\n",
      "r200_032bp,m200_032bp,r500_032bp,m500_032bp = np.loadtxt('032_BH2015_BiasedProgenitor_Masses.txt',usecols=[4,5,6,7], unpack=True)\n",
      "r200_041bp,m200_041bp,r500_041bp,m500_041bp = np.loadtxt('041_BH2015_BiasedProgenitor_Masses.txt',usecols=[4,5,6,7], unpack=True)\n",
      "r200_091bp,m200_091bp,r500_091bp,m500_091bp = np.loadtxt('091_BH2015_BiasedProgenitor_Masses.txt',usecols=[4,5,6,7], unpack=True)"
     ],
     "language": "python",
     "metadata": {},
     "outputs": [],
     "prompt_number": 1
    },
    {
     "cell_type": "code",
     "collapsed": false,
     "input": [],
     "language": "python",
     "metadata": {},
     "outputs": []
    }
   ],
   "metadata": {}
  }
 ]
}